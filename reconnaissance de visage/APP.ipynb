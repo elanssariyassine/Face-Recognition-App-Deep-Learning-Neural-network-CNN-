{
 "cells": [
  {
   "cell_type": "code",
   "execution_count": 1,
   "id": "3cda261f",
   "metadata": {},
   "outputs": [],
   "source": [
    "import tkinter\n",
    "from tkinter import *\n",
    "from keras.models import load_model\n",
    "from tkinter import ttk  \n",
    "from PIL import Image, ImageTk\n",
    "import cv2\n",
    "from cv2 import VideoCapture\n",
    "import matplotlib.pyplot as plt\n",
    "import numpy as np\n",
    "import os\n",
    "from tqdm import tqdm\n",
    "import tensorflow as tf\n",
    "from tensorflow import keras"
   ]
  },
  {
   "cell_type": "code",
   "execution_count": 2,
   "id": "de949a5d",
   "metadata": {},
   "outputs": [],
   "source": [
    "global fenetre\n",
    "global fenetre2"
   ]
  },
  {
   "cell_type": "code",
   "execution_count": 3,
   "id": "89d494de",
   "metadata": {},
   "outputs": [
    {
     "data": {
      "text/plain": [
       "['aishwarya_rai',\n",
       " 'angelina_jolie',\n",
       " 'arnold_schwarzenegger',\n",
       " 'bhuvan_bam',\n",
       " 'brad_pitt',\n",
       " 'David_Schwimmer',\n",
       " 'dhoni',\n",
       " 'hardik_pandya',\n",
       " 'Jennifer_Aniston',\n",
       " 'Jim_Parsons',\n",
       " 'Johnny_Galeck',\n",
       " 'Kunal_Nayya',\n",
       " 'Lisa_Kudrow',\n",
       " 'manoj_bajpayee',\n",
       " 'Matthew_Perry',\n",
       " 'Matt_LeBlanc',\n",
       " 'messi',\n",
       " 'mohamed_ali',\n",
       " 'Pankaj_Tripathi',\n",
       " 'pewdiepie',\n",
       " 'ROHIT_SHARMA',\n",
       " 'ronaldo',\n",
       " 'Sachin_Tendulka',\n",
       " 'scarlett_johansson',\n",
       " 'Simon_Helberg',\n",
       " 'suresh_raina',\n",
       " 'sylvester_stallone',\n",
       " 'virat_kohli']"
      ]
     },
     "execution_count": 3,
     "metadata": {},
     "output_type": "execute_result"
    }
   ],
   "source": [
    "files=os.listdir(\"dataset\")\n",
    "files"
   ]
  },
  {
   "cell_type": "code",
   "execution_count": 4,
   "id": "49b619b0",
   "metadata": {},
   "outputs": [],
   "source": [
    "# # Load model to face classification\n",
    "model = load_model('modelvf.h5')"
   ]
  },
  {
   "cell_type": "code",
   "execution_count": 5,
   "id": "cf81486f",
   "metadata": {},
   "outputs": [],
   "source": [
    "def Affiche_image(name_index):\n",
    "    j=1;\n",
    "    print(files[name_index])\n",
    "    for i in range(len(Y_test)):\n",
    "        if(name_index == Y_test[i]):\n",
    "            plt.imshow(X_test[i])\n",
    "            plt.show()\n",
    "            j+=1\n",
    "        if(j==4):\n",
    "            break\n",
    "\n",
    "def get_image(path):\n",
    "\n",
    "    img=cv2.imread(path)\n",
    "\n",
    "    img=cv2.cvtColor(img,cv2.COLOR_BGR2RGB)\n",
    "\n",
    "    img=cv2.resize(img,(96,96))\n",
    "\n",
    "    return img\n",
    "\n",
    "def get_similaireIMG(fenetre2,image2):\n",
    "    X = image2.reshape((1,) + image2.shape)\n",
    "    y_predic = model.predict(X)\n",
    "    ImagesDict = {}\n",
    "    for i in range(5) :\n",
    "        predectionMax = np.argmax(y_predic)\n",
    "        predection = y_predic[0][predectionMax]\n",
    "        if(predection > 0):\n",
    "            Nome = files[predectionMax]\n",
    "            ImagesDict[Nome] = predection\n",
    "            \n",
    "            y_predic[0][predectionMax] = -1\n",
    "    return ImagesDict"
   ]
  },
  {
   "cell_type": "code",
   "execution_count": 6,
   "id": "e0f8cf52",
   "metadata": {},
   "outputs": [],
   "source": [
    "def capter_image():\n",
    "    \n",
    "    fenetre.destroy()\n",
    "    cam = cv2.VideoCapture(0)\n",
    "    cv2.namedWindow(\"Capter Photo\")\n",
    "    img_counter = 0\n",
    "\n",
    "    while True:\n",
    "        ret, frame = cam.read()\n",
    "        if not ret:\n",
    "            print(\"failed to grab frame\")\n",
    "            break\n",
    "        cv2.imshow(\"Capter Photo\", frame)\n",
    "        \n",
    "\n",
    "        k = cv2.waitKey(1)\n",
    "        if k%256 == 27:\n",
    "            # ESC pressed\n",
    "            print(\"Escape hit, closing...\")\n",
    "            break\n",
    "        if k%256 == 32:\n",
    "            # SPACE pressed\n",
    "            \n",
    "            img_name = \"opencv_frame_{}.png\".format(img_counter)\n",
    "            cv2.imwrite(img_name, frame)\n",
    "            cv2.cvtColor(frame,cv2.COLOR_BGR2RGB)\n",
    "            img = get_image(img_name)\n",
    "            interface_predection(img_name, img)\n",
    "            #get_similaireIMG(img)\n",
    "            img_counter += 1\n",
    "    \n",
    "    cam.release()\n",
    "    cv2.destroyAllWindows()\n"
   ]
  },
  {
   "cell_type": "code",
   "execution_count": 7,
   "id": "d9c94f6d",
   "metadata": {},
   "outputs": [],
   "source": [
    "def interface_predection(img_name,image2):\n",
    "    fenetre2 = Tk()\n",
    "    fenetre2.title(\"Exemple Tk\")\n",
    "    fenetre2.geometry(\"1150x600\")\n",
    "    fenetre2.resizable(False, False)\n",
    "    fenetre2.title(\"Prediction\")\n",
    "    fenetre2.config(bg='#cbeaf6')\n",
    "\n",
    "    titre = Label ( fenetre2 , text =\"Face Recognition :\", padx=1050, pady=10, bg='#68c3cd', fg='#f00', font=(\"Arial\", 20), anchor=CENTER)\n",
    "    titre.pack()\n",
    "\n",
    "    img_capt = Label ( fenetre2 , text =\"Photo :\", padx=10, pady=7,bg='#cbeaf6', font=(\"Arial\", 14), anchor=CENTER)\n",
    "    img_capt.pack()\n",
    "    \n",
    "    img = Image.open(img_name)\n",
    "    img =  img.resize((150,150))\n",
    "    img = ImageTk.PhotoImage(img)\n",
    "    Label(fenetre2,image=img).pack()\n",
    "\n",
    "    predction = Label ( fenetre2 , text =\"Les cinq personnes Similaires de vous sont : \",  bg='#f7d85d', padx=1050, pady=7, font=(\"Arial\", 13), anchor=CENTER)\n",
    "    predction.pack()\n",
    "\n",
    "    listImages = get_similaireIMG(fenetre2,image2)\n",
    "    \n",
    "    v = [\"img2\",\"img3\",\"img4\",\"img5\",\"img6\"]\n",
    "    j=0\n",
    "    i=0\n",
    "    c = Frame(fenetre2 ,relief = 'sunken', bd = 2, bg = 'grey')\n",
    "    for val,key in listImages.items():\n",
    "        #print(x)\n",
    "        v[i] = Image.open(\"dataset\"+val+\"/1.jpg\")\n",
    "        v[i] =  v[i].resize((150,150))\n",
    "        v[i] = ImageTk.PhotoImage(v[i])\n",
    "        Label(master=c, image=v[i]).grid(row=4,column=j,pady=20,padx=25)\n",
    "        Label ( master=c , text =\"Nom : \"+val,anchor=CENTER).grid(row=5,column=j,pady=8,padx=25)\n",
    "        Label ( master=c , text =str(round(key*100, 2))+\"%\",anchor=CENTER).grid(row=6,column=j,pady=8,padx=25)\n",
    "        i+=1\n",
    "        j+=2\n",
    "    c.pack()\n",
    "    fenetre.mainloop()"
   ]
  },
  {
   "cell_type": "code",
   "execution_count": null,
   "id": "1a1ecab8",
   "metadata": {},
   "outputs": [
    {
     "name": "stdout",
     "output_type": "stream",
     "text": [
      "1/1 [==============================] - 0s 207ms/step\n"
     ]
    },
    {
     "name": "stderr",
     "output_type": "stream",
     "text": [
      "Exception in Tkinter callback\n",
      "Traceback (most recent call last):\n",
      "  File \"C:\\Users\\YASSINE\\anaconda3\\lib\\tkinter\\__init__.py\", line 1892, in __call__\n",
      "    return self.func(*args)\n",
      "  File \"C:\\Users\\YASSINE\\AppData\\Local\\Temp\\ipykernel_19712\\104589548.py\", line 28, in capter_image\n",
      "    interface_predection(img_name, img)\n",
      "  File \"C:\\Users\\YASSINE\\AppData\\Local\\Temp\\ipykernel_19712\\962436133.py\", line 31, in interface_predection\n",
      "    v[i] = Image.open(\"dataset\"+val+\"/1.jpg\")\n",
      "  File \"C:\\Users\\YASSINE\\anaconda3\\lib\\site-packages\\PIL\\Image.py\", line 2953, in open\n",
      "    fp = builtins.open(filename, \"rb\")\n",
      "FileNotFoundError: [Errno 2] No such file or directory: 'datasetvirat_kohli/1.jpg'\n"
     ]
    }
   ],
   "source": [
    "fenetre = Tk()\n",
    "fenetre.title(\"Exemple Tk\")\n",
    "fenetre.geometry(\"800x550\")\n",
    "fenetre.title(\"Reconnaissance Faciale\")\n",
    "fenetre.resizable(False, False)\n",
    "\n",
    "img = ImageTk.PhotoImage(Image.open(\"bg.jpg\"))  # PIL solution\n",
    "Label(fenetre, image=img).pack()\n",
    "\n",
    "Ajoute= Button(fenetre, text=\" Capter une Photo \",bg='#1ca5c7',command=capter_image,width=18) \n",
    "Ajoute.place(x=650,y=200)\n",
    "\n",
    "# #button Quitter\n",
    "btnQuit= Button(fenetre, text=\" Quitter \",bg='#1ca5c7',command=fenetre.quit,width=18)  \n",
    "btnQuit.place(x=650,y=250)\n",
    "fenetre.mainloop()\n"
   ]
  },
  {
   "cell_type": "code",
   "execution_count": null,
   "id": "962e8dc4",
   "metadata": {},
   "outputs": [],
   "source": []
  },
  {
   "cell_type": "code",
   "execution_count": null,
   "id": "bcd7d2c3",
   "metadata": {},
   "outputs": [],
   "source": []
  },
  {
   "cell_type": "code",
   "execution_count": null,
   "id": "d132bb8b",
   "metadata": {},
   "outputs": [],
   "source": []
  }
 ],
 "metadata": {
  "kernelspec": {
   "display_name": "Python 3 (ipykernel)",
   "language": "python",
   "name": "python3"
  },
  "language_info": {
   "codemirror_mode": {
    "name": "ipython",
    "version": 3
   },
   "file_extension": ".py",
   "mimetype": "text/x-python",
   "name": "python",
   "nbconvert_exporter": "python",
   "pygments_lexer": "ipython3",
   "version": "3.9.12"
  }
 },
 "nbformat": 4,
 "nbformat_minor": 5
}
